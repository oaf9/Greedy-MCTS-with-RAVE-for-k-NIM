{
 "cells": [
  {
   "attachments": {},
   "cell_type": "markdown",
   "metadata": {},
   "source": [
    "This is an application that attempts to simulate the game of k-NIM in the case k = 2. \n",
    "feature additions will employ Monte Carlo Methods as we attempt to understand game dynamics further.\n",
    "Credit to  John Tan Chong Min for his python tutorials and his work in writing a learning program for classical NIM."
   ]
  },
  {
   "cell_type": "code",
   "execution_count": 9,
   "metadata": {},
   "outputs": [],
   "source": [
    "#libraries that are used in the program\n",
    "\n",
    "from copy import deepcopy"
   ]
  },
  {
   "cell_type": "code",
   "execution_count": 20,
   "metadata": {},
   "outputs": [],
   "source": [
    "class two_NIM:\n",
    "    def __init__(self, quantities):\n",
    "        self.quantities = quantities \n",
    "        self.sum = sum(quantities)\n",
    "        self.game_over = 0\n",
    "\n",
    "    def move(self, q1, b1, q2, b2):\n",
    "\n",
    "        #first we want to assert that the move is valid. \n",
    "        # If the program doesn't halt for bad games, our learning program will not function correctly \n",
    "\n",
    "        assert (q1 <=2)\n",
    "        assert (q2 <=2)\n",
    "        assert (q1 + q2 <=2)\n",
    "        assert(self.quantities[b1] >= q1)\n",
    "        assert(self.quantities[b2] >= q2)\n",
    "        assert b1 < len(self.quantities)\n",
    "        assert b1 < len(self.quantities)\n",
    "\n",
    "        # then we implement the actual move\n",
    "        self.quantities[b1] = self.quantities[b1] - q1\n",
    "        self.quantities[b2] = self.quantities[b2] - q2\n",
    "\n",
    "        #the turn vairaible tracks which players turn it is\n",
    "        #1 for P1, -1 for P2\n",
    "        self.turn = self.turn * -1\n",
    "\n",
    "        #checking if we lost: if so, terminate. \n",
    "        #then we assign a negative reward to the appropriate player. \n",
    "\n",
    "        if self.lose() == True:\n",
    "            #end game and punish player for losing\n",
    "            self.game_over = 1 \n",
    "            self.reward = -1    \n",
    "        \n",
    "        #print(self.quantites)\n",
    "\n",
    "    def move(self, q1, b1):\n",
    "\n",
    "        assert (q1 <=2)\n",
    "        assert(self.quantities[b1] >= q1)\n",
    "        assert b1 < len(self.quantities)\n",
    "\n",
    "        self.quantities[b1] = self.quantities[b1] - q1\n",
    "        print(self.quantities)\n",
    "\n",
    "\n",
    "    def lose(self):\n",
    "        # you lose lose if it is your turn and the count is 0\n",
    "        return (self.sum == 0) \n",
    "\n",
    "\n",
    "    def reset(self):\n",
    "\n",
    "        self.sum = sum(self.quantities)\n",
    "        self.quantities = self.turn = 1\n",
    "        self.done = 0\n",
    "        self.reward = 1\n",
    "\n",
    "    def descendants(self): \n",
    "        #calculate all descendants: we will leave duplciates \n",
    "        # in there for now but worry about them if it becomes an issue \n",
    "        moves = []\n",
    "        for index, x in enumerate(self.quantities):\n",
    "            child = deepcopy(self.quantities)\n",
    "            if(x > 0):\n",
    "                child[index] -= 1\n",
    "                moves.append(child)\n",
    "\n",
    "        for indexx, x in enumerate(self.quantities):\n",
    "            for indexy, y in enumerate(self.quantities):\n",
    "                child = deepcopy(self.quantities)\n",
    "                if(x>0 and y >0): \n",
    "                    child[indexx] -= 1\n",
    "                    child[indexy] -= 1 \n",
    "                    moves.append(child)\n",
    "        \n",
    "        return moves "
   ]
  },
  {
   "cell_type": "code",
   "execution_count": 21,
   "metadata": {},
   "outputs": [
    {
     "name": "stdout",
     "output_type": "stream",
     "text": [
      "[[2, 3, 3], [3, 2, 3], [3, 3, 2], [1, 3, 3], [2, 2, 3], [2, 3, 2], [2, 2, 3], [3, 1, 3], [3, 2, 2], [2, 3, 2], [3, 2, 2], [3, 3, 1]]\n"
     ]
    }
   ],
   "source": [
    "\n",
    "game = two_NIM([3,3,3]) \n",
    "\n",
    "print(game.descendants())\n",
    "\n",
    "\n",
    "\n"
   ]
  },
  {
   "cell_type": "code",
   "execution_count": null,
   "metadata": {},
   "outputs": [],
   "source": []
  },
  {
   "cell_type": "code",
   "execution_count": null,
   "metadata": {},
   "outputs": [],
   "source": []
  }
 ],
 "metadata": {
  "kernelspec": {
   "display_name": "base",
   "language": "python",
   "name": "python3"
  },
  "language_info": {
   "codemirror_mode": {
    "name": "ipython",
    "version": 3
   },
   "file_extension": ".py",
   "mimetype": "text/x-python",
   "name": "python",
   "nbconvert_exporter": "python",
   "pygments_lexer": "ipython3",
   "version": "3.9.7"
  },
  "orig_nbformat": 4,
  "vscode": {
   "interpreter": {
    "hash": "9e630bc0d39d435b22f9b005722cb4a84b0b57f376e0780b6304b23e04c52990"
   }
  }
 },
 "nbformat": 4,
 "nbformat_minor": 2
}
