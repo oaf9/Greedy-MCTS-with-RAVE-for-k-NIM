{
 "cells": [
  {
   "attachments": {},
   "cell_type": "markdown",
   "metadata": {},
   "source": [
    "This is an application that attempts to simulate the game of k-NIM in the case k = 2. \n",
    "feature additions will employ Monte Carlo Methods as we attempt to understand game dynamics further.\n",
    "Credit to  John Tan Chong Min for his python tutorials and his work in writing a learning program for classical NIM."
   ]
  },
  {
   "cell_type": "code",
   "execution_count": 95,
   "metadata": {},
   "outputs": [],
   "source": [
    "#libraries that are used in the program\n",
    "from copy import deepcopy\n",
    "import numpy as np\n",
    "import random"
   ]
  },
  {
   "cell_type": "code",
   "execution_count": 145,
   "metadata": {},
   "outputs": [],
   "source": [
    "class two_NIM:\n",
    "    def __init__(self, position):\n",
    "        self.position = position \n",
    "        self.sum = sum(position)\n",
    "        self.in_play = True\n",
    "        self.turn = 1\n",
    "        self.descendants = self.plays()\n",
    "\n",
    "    def move(self, play):\n",
    "        #first we want to assert that the move is valid. \n",
    "        # If the program doesn't halt for bad games, our learning program will not function correctly \n",
    "        assert(play in self.descendants) \n",
    "\n",
    "        self.position = play #update position\n",
    "        self.sum = sum(play) #update sum \n",
    "        self.descendants = self.plays() #update descendants\n",
    "        self.turn = self.turn * -1  # update turn\n",
    "\n",
    "        if self.lose() == True:  #check loss\n",
    "            self.in_play = False #end game\n",
    "            self.reward = -1    #punish loser\n",
    "\n",
    "\n",
    "    def lose(self):\n",
    "        return (self.sum == 0) # you lose lose if it is your turn and the count is 0\n",
    "\n",
    "\n",
    "    def reset(self):\n",
    "        self.sum = sum(self.position)\n",
    "        self.position = self.turn = 1\n",
    "        self.in_play = True\n",
    "        self.reward = 1\n",
    "\n",
    "    def plays(self): \n",
    "        #calculate all descendants: we will leave duplciates \n",
    "        # in there for now but worry about them if it becomes an issue \n",
    "        moves = []\n",
    "        for index, x in enumerate(self.position):\n",
    "            child = deepcopy(self.position)\n",
    "            if(x > 0):\n",
    "                child[index] -= 1\n",
    "                moves.append(child)\n",
    "\n",
    "        for indexx, x in enumerate(self.position):\n",
    "            for indexy, y in enumerate(self.position):\n",
    "                child = deepcopy(self.position)\n",
    "                if((x > 0) and (y > 0) and (indexx != indexy)): \n",
    "                    child[indexx] -= 1\n",
    "                    child[indexy] -= 1 \n",
    "                    moves.append(child)\n",
    "        \n",
    "        return moves "
   ]
  },
  {
   "cell_type": "code",
   "execution_count": 147,
   "metadata": {},
   "outputs": [],
   "source": [
    "#next, we need to make a game method to play the actual games\n",
    "def Game(P_1, P_2, position, with_script):\n",
    "    game = two_NIM(position)\n",
    "    while(game.in_play == True):\n",
    "        if (game.turn == 1):\n",
    "            #print(game.descendants())\n",
    "            move = P_1(game.descendants)\n",
    "            game.move(move)\n",
    "            if(with_script):\n",
    "                print(f\"Player 1 moves to {move}\")\n",
    "        else:\n",
    "            move = P_2(game.descendants)\n",
    "            game.move(move)\n",
    "            if(with_script):\n",
    "                print(f\"Player 2 moves to {move}\")\n",
    "        \n",
    "    if game.turn == 1 : \n",
    "        winner = 2\n",
    "    else :\n",
    "        winner = 1\n",
    "\n",
    "    print(f\"Player {winner} wins\")\n",
    "       "
   ]
  },
  {
   "cell_type": "code",
   "execution_count": 153,
   "metadata": {},
   "outputs": [],
   "source": [
    "# a random player just selects a random position from an array of positions. \n",
    "def Random_player(position):\n",
    "    return position[random.randint(0, len(position)-1)]\n"
   ]
  },
  {
   "cell_type": "code",
   "execution_count": 154,
   "metadata": {},
   "outputs": [
    {
     "name": "stdout",
     "output_type": "stream",
     "text": [
      "Player 1 moves to [2, 3, 2]\n",
      "Player 2 moves to [1, 3, 1]\n",
      "Player 1 moves to [1, 2, 1]\n",
      "Player 2 moves to [0, 1, 1]\n",
      "Player 1 moves to [0, 1, 0]\n",
      "Player 2 moves to [0, 0, 0]\n",
      "Player 2 wins\n"
     ]
    }
   ],
   "source": [
    "Game(Random_player, Random_player, [3,3,3], True)"
   ]
  },
  {
   "cell_type": "code",
   "execution_count": null,
   "metadata": {},
   "outputs": [],
   "source": []
  },
  {
   "cell_type": "code",
   "execution_count": null,
   "metadata": {},
   "outputs": [],
   "source": []
  }
 ],
 "metadata": {
  "kernelspec": {
   "display_name": "base",
   "language": "python",
   "name": "python3"
  },
  "language_info": {
   "codemirror_mode": {
    "name": "ipython",
    "version": 3
   },
   "file_extension": ".py",
   "mimetype": "text/x-python",
   "name": "python",
   "nbconvert_exporter": "python",
   "pygments_lexer": "ipython3",
   "version": "3.9.7"
  },
  "orig_nbformat": 4,
  "vscode": {
   "interpreter": {
    "hash": "9e630bc0d39d435b22f9b005722cb4a84b0b57f376e0780b6304b23e04c52990"
   }
  }
 },
 "nbformat": 4,
 "nbformat_minor": 2
}
