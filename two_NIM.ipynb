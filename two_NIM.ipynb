{
 "cells": [
  {
   "attachments": {},
   "cell_type": "markdown",
   "metadata": {},
   "source": [
    "This is an application that attempts to simulate the game of k-NIM in the case k = 2. \n",
    "feature additions will employ Monte Carlo Methods as we attempt to understand game dynamics further.\n",
    "Credit to  John Tan Chong Min for his python tutorials and his work in writing a learning program for classical NIM."
   ]
  },
  {
   "cell_type": "code",
   "execution_count": 917,
   "metadata": {},
   "outputs": [],
   "source": [
    "#libraries that are used in the program\n",
    "from copy import deepcopy\n",
    "import numpy as np\n",
    "import random\n"
   ]
  },
  {
   "cell_type": "code",
   "execution_count": 918,
   "metadata": {},
   "outputs": [],
   "source": [
    "#helpers to avoid duplicates \n",
    "\n",
    "#check if two arrays are unordered matches:\n",
    "def is_match(a,b): \n",
    "    match = True\n",
    "    for item in a: \n",
    "        if a.count(item) != b.count(item):\n",
    "            match = False\n",
    "            break\n",
    "    return match\n",
    "\n",
    "#check if an array has such a match in a collection of other arrays \n",
    "def occurs(collection, element):\n",
    "    has_element = False\n",
    "    for item in collection:\n",
    "        if is_match(item, element):\n",
    "            has_element = True\n",
    "            break\n",
    "\n",
    "    return has_element\n",
    "\n",
    "def all_even(vector):\n",
    "    result = True\n",
    "    for x in vector: \n",
    "        if x % 2  == 1 :\n",
    "            result = False\n",
    "            break\n",
    "    return result\n",
    "\n",
    " "
   ]
  },
  {
   "cell_type": "code",
   "execution_count": 919,
   "metadata": {},
   "outputs": [],
   "source": [
    "class two_NIM:\n",
    "    def __init__(self, position):\n",
    "        self.position = position \n",
    "        self.sum = sum(position) \n",
    "        self.in_play = True\n",
    "        self.turn = 1\n",
    "        self.descendants = self.plays()\n",
    "        self.reward = 1\n",
    "\n",
    "    def move(self, play):\n",
    "        #first we want to assert that the move is valid. \n",
    "        # If the program doesn't halt for bad games, our learning program will not function correctly \n",
    "        assert(play in self.descendants) \n",
    "\n",
    "        self.position = play #update position\n",
    "        self.sum = sum(play) #update sum \n",
    "        self.descendants = self.plays() #update descendants\n",
    "\n",
    "        if self.over() == True:  #check loss\n",
    "            self.in_play = False #end game\n",
    "            if(self.turn == -1):\n",
    "                self.reward = -1  #punish losers\n",
    "\n",
    "        self.turn = self.turn * -1  # update turn\n",
    "        \n",
    "\n",
    "    def over(self):\n",
    "        return (self.sum == 0) # game ends when sum accross all heaps is zero\n",
    "\n",
    "    def reset(self):\n",
    "        self.sum = sum(self.position)\n",
    "        self.position = self.turn = 1\n",
    "        self.in_play = True\n",
    "        self.reward = 1\n",
    "\n",
    "    def plays(self): \n",
    "        #calculate all descendants: (currently we remove unordered duplicates)\n",
    "        moves = []\n",
    "        for index, x in enumerate(self.position):\n",
    "            child = deepcopy(self.position)\n",
    "            if(x > 0):\n",
    "                child[index] -= 1\n",
    "                if not occurs(moves, child):\n",
    "                    moves.append(child)\n",
    "\n",
    "        for indexx, x in enumerate(self.position):\n",
    "            for indexy, y in enumerate(self.position):\n",
    "                child = deepcopy(self.position)\n",
    "                if((x > 0) and (y > 0) and (indexx != indexy)): \n",
    "                    child[indexx] -= 1\n",
    "                    child[indexy] -= 1 \n",
    "                    if not occurs(moves, child):\n",
    "                        moves.append(child)\n",
    "        \n",
    "        return moves "
   ]
  },
  {
   "cell_type": "code",
   "execution_count": 920,
   "metadata": {},
   "outputs": [],
   "source": [
    "#next, we need to make a game method to play the actual games\n",
    "def Game(P_1, P_2, position, with_script):\n",
    "    game = two_NIM(position)\n",
    "\n",
    "    while(game.in_play):\n",
    "        if (game.turn == 1):\n",
    "            #print(game.descendants())\n",
    "            move = P_1(game.descendants)\n",
    "            game.move(move)\n",
    "            if(with_script):\n",
    "                print(f\"Player 1 moves to {move}\")\n",
    "        else:\n",
    "            move = P_2(game.descendants)\n",
    "            game.move(move)\n",
    "            if(with_script):\n",
    "                print(f\"Player 2 moves to {move}\")\n",
    "        \n",
    "    if game.turn == 1 : \n",
    "        winner = 2\n",
    "    else :\n",
    "        winner = 1\n",
    "\n",
    "    print(f\"Player {winner} wins\")\n",
    "\n",
    "    return game.reward  "
   ]
  },
  {
   "cell_type": "code",
   "execution_count": 921,
   "metadata": {},
   "outputs": [],
   "source": [
    "# a random player just selects a random position from an array of positions. \n",
    "def random_player(position):\n",
    "    return position[random.randint(0, len(position)-1)]"
   ]
  },
  {
   "cell_type": "code",
   "execution_count": 922,
   "metadata": {},
   "outputs": [],
   "source": [
    "# now that we ahve a game method, we can play tournaments\n",
    "def Tournament(P_1, P_2, position, rounds, bool): \n",
    "\n",
    "    P_1_score = P_2_score = 0 \n",
    "\n",
    "    for i in range(0, rounds): \n",
    "        result = Game(P_1, P_2, position, bool)\n",
    "        if(result == 1): \n",
    "            P_1_score += 1\n",
    "            #P_2_score -= 1\n",
    "        else: \n",
    "           # P_1_score -=1\n",
    "            P_2_score +=1\n",
    "\n",
    "    print(f\"Player 1 wins {P_1_score} games.\")\n",
    "    print(f\"Player 2 wins {P_2_score} games.\")\n",
    "\n",
    "    return [f\"Player 1 wins {P_1_score} games , Player 2 wins {P_2_score} games\"]\n",
    "    \n"
   ]
  },
  {
   "cell_type": "code",
   "execution_count": 923,
   "metadata": {},
   "outputs": [
    {
     "name": "stdout",
     "output_type": "stream",
     "text": [
      "Player 1 wins\n",
      "Player 2 wins\n",
      "Player 2 wins\n",
      "Player 1 wins\n",
      "Player 1 wins\n",
      "Player 1 wins\n",
      "Player 2 wins\n",
      "Player 2 wins\n",
      "Player 2 wins\n",
      "Player 1 wins\n",
      "Player 1 wins 5 games.\n",
      "Player 2 wins 5 games.\n"
     ]
    },
    {
     "data": {
      "text/plain": [
       "['Player 1 wins 5 games , Player 2 wins 5 games']"
      ]
     },
     "execution_count": 923,
     "metadata": {},
     "output_type": "execute_result"
    }
   ],
   "source": [
    "Tournament(random_player,random_player, [3,3,3], 10, False)"
   ]
  },
  {
   "cell_type": "code",
   "execution_count": 924,
   "metadata": {},
   "outputs": [],
   "source": [
    "#play a random game and record the reward [1 if win, -1 if loss]\n",
    "def random_expirament(position):\n",
    "    if (sum(position) == 0): #just in case we start empty\n",
    "        return 1\n",
    "    else: \n",
    "        return Game(random_player,random_player, position, True)"
   ]
  },
  {
   "cell_type": "code",
   "execution_count": 925,
   "metadata": {},
   "outputs": [],
   "source": [
    "def mc_player(position, iterations):\n",
    "     #iterations = number of times you want to perform the random expirament\n",
    "     # more iterations means more accurate weights, at the expense of efficiency.\n",
    "    game = two_NIM(position)\n",
    "    weights = {} \n",
    "    output = []\n",
    "    for choice in game.descendants: # for each choice (move) in the decisions space (position)\n",
    "        outcome = 0 \n",
    "        for x in range(iterations): \n",
    "            #print(choice)\n",
    "            outcome += -(random_expirament(choice)) # play the game randomly\n",
    "            # it's necessary to factor out the -1 because if a choice is a \"good position,\" then you DON'T want to move there. \n",
    "            #print(outcome)\n",
    "\n",
    "        weights[game.descendants.index(choice)] = outcome/iterations #assign a weight to the choice \n",
    "        output.append([choice, weights[game.descendants.index(choice)]])\n",
    "        \n",
    "    #print(weights)\n",
    "    return output"
   ]
  },
  {
   "cell_type": "code",
   "execution_count": 926,
   "metadata": {},
   "outputs": [],
   "source": [
    "#print(Game(random_player,random_player, [3,3,3], True))\n",
    "#print(random_expirament([3,3,3]))\n",
    "#print(mc_player([2,1], 100))\n",
    "#print(random_player([[1,0],[1,1],[2,0]]))\n",
    "#print(mc_player([2,5,5], 100))\n",
    "#print(mc_player([2,1], 10))"
   ]
  },
  {
   "cell_type": "code",
   "execution_count": 927,
   "metadata": {},
   "outputs": [],
   "source": [
    "class Node:\n",
    "    def __innit__(self, position, parent, children): \n",
    "            # a basic node class each node has a parent and children\n",
    "            self.parent = parent\n",
    "            self.position = position \n",
    "            self.children = children  #an array\n",
    "\n",
    "            moves = []\n",
    "            for index, x in enumerate(self.position):\n",
    "                child = deepcopy(self.position)\n",
    "                if(x > 0):\n",
    "                    child[index] -= 1\n",
    "                    if not occurs(moves, child):\n",
    "                        moves.append(child)\n",
    "\n",
    "            for indexx, x in enumerate(self.position):\n",
    "                for indexy, y in enumerate(self.position):\n",
    "                    child = deepcopy(self.position)\n",
    "                    if((x > 0) and (y > 0) and (indexx != indexy)): \n",
    "                        child[indexx] -= 1\n",
    "                        child[indexy] -= 1 \n",
    "                        if not occurs(moves, child):\n",
    "                            moves.append(child)           \n",
    "            self.children = moves\n"
   ]
  },
  {
   "cell_type": "code",
   "execution_count": 928,
   "metadata": {},
   "outputs": [],
   "source": [
    "# MCTS with RAV\n",
    "\n"
   ]
  }
 ],
 "metadata": {
  "kernelspec": {
   "display_name": "base",
   "language": "python",
   "name": "python3"
  },
  "language_info": {
   "codemirror_mode": {
    "name": "ipython",
    "version": 3
   },
   "file_extension": ".py",
   "mimetype": "text/x-python",
   "name": "python",
   "nbconvert_exporter": "python",
   "pygments_lexer": "ipython3",
   "version": "3.9.7"
  },
  "orig_nbformat": 4,
  "vscode": {
   "interpreter": {
    "hash": "9e630bc0d39d435b22f9b005722cb4a84b0b57f376e0780b6304b23e04c52990"
   }
  }
 },
 "nbformat": 4,
 "nbformat_minor": 2
}
