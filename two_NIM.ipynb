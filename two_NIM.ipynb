{
 "cells": [
  {
   "attachments": {},
   "cell_type": "markdown",
   "metadata": {},
   "source": [
    "This is an application that attempts to simulate the game of k-NIM in the case k = 2. \n",
    "feature additions will employ Monte Carlo Methods as we attempt to understand game dynamics further.\n",
    "Credit to  John Tan Chong Min for his python tutorials and his work in writing a learning program for classical NIM."
   ]
  },
  {
   "cell_type": "code",
   "execution_count": 22,
   "metadata": {},
   "outputs": [],
   "source": [
    "#libraries that are used in the program\n",
    "from copy import deepcopy\n",
    "import numpy as np\n",
    "import random"
   ]
  },
  {
   "cell_type": "code",
   "execution_count": 23,
   "metadata": {},
   "outputs": [],
   "source": [
    "class two_NIM:\n",
    "    def __init__(self, position):\n",
    "        self.position = position \n",
    "        self.sum = sum(position) \n",
    "        self.in_play = True\n",
    "        self.turn = 1\n",
    "        self.descendants = self.plays()\n",
    "        self.reward = 1\n",
    "\n",
    "    def move(self, play):\n",
    "        #first we want to assert that the move is valid. \n",
    "        # If the program doesn't halt for bad games, our learning program will not function correctly \n",
    "        assert(play in self.descendants) \n",
    "\n",
    "        self.position = play #update position\n",
    "        self.sum = sum(play) #update sum \n",
    "        self.descendants = self.plays() #update descendants\n",
    "        self.turn = self.turn * -1  # update turn\n",
    "\n",
    "        if self.lose() == True:  #check loss\n",
    "            self.in_play = False #end game\n",
    "            self.reward = -1    #punish loser\n",
    "\n",
    "    def lose(self):\n",
    "        return (self.sum == 0) # you lose lose if it is your turn and the count is 0\n",
    "\n",
    "    def reset(self):\n",
    "        self.sum = sum(self.position)\n",
    "        self.position = self.turn = 1\n",
    "        self.in_play = True\n",
    "        self.reward = 1\n",
    "\n",
    "    def plays(self): \n",
    "        #calculate all descendants: we will leave duplciates \n",
    "        # in there for now but worry about them if it becomes an issue \n",
    "        moves = []\n",
    "        for index, x in enumerate(self.position):\n",
    "            child = deepcopy(self.position)\n",
    "            if(x > 0):\n",
    "                child[index] -= 1\n",
    "                moves.append(child)\n",
    "\n",
    "        for indexx, x in enumerate(self.position):\n",
    "            for indexy, y in enumerate(self.position):\n",
    "                child = deepcopy(self.position)\n",
    "                if((x > 0) and (y > 0) and (indexx != indexy)): \n",
    "                    child[indexx] -= 1\n",
    "                    child[indexy] -= 1 \n",
    "                    moves.append(child)\n",
    "        \n",
    "        return moves "
   ]
  },
  {
   "cell_type": "code",
   "execution_count": 24,
   "metadata": {},
   "outputs": [],
   "source": [
    "#next, we need to make a game method to play the actual games\n",
    "def Game(P_1, P_2, position, with_script):\n",
    "    game = two_NIM(position)\n",
    "    while(game.in_play):\n",
    "        if (game.turn == 1):\n",
    "            #print(game.descendants())\n",
    "            move = P_1(game.descendants)\n",
    "            game.move(move)\n",
    "            if(with_script):\n",
    "                print(f\"Player 1 moves to {move}\")\n",
    "        else:\n",
    "            move = P_2(game.descendants)\n",
    "            game.move(move)\n",
    "            if(with_script):\n",
    "                print(f\"Player 2 moves to {move}\")\n",
    "        \n",
    "    if game.turn == 1 : \n",
    "        winner = 2\n",
    "    else :\n",
    "        winner = 1\n",
    "\n",
    "    print(f\"Player {winner} wins\")\n",
    "\n",
    "    return game.reward\n",
    "\n",
    "\n",
    "    \n",
    "\n",
    "    \n",
    "       "
   ]
  },
  {
   "cell_type": "code",
   "execution_count": 25,
   "metadata": {},
   "outputs": [],
   "source": [
    "# a random player just selects a random position from an array of positions. \n",
    "def random_player(position):\n",
    "    return position[random.randint(0, len(position)-1)]"
   ]
  },
  {
   "cell_type": "code",
   "execution_count": 26,
   "metadata": {},
   "outputs": [],
   "source": [
    "# now that we ahve a game method, we can play tournaments\n",
    "def Tournament(P_1, P_2, position, rounds, bool): \n",
    "\n",
    "    P_1_score = P_2_score = 0 \n",
    "\n",
    "    for i in range(0, rounds): \n",
    "        result = Game(P_1, P_2, position, bool)\n",
    "        if(result == 1): \n",
    "            P_1_score += 1\n",
    "            #P_2_score -= 1\n",
    "        else: \n",
    "           # P_1_score -=1\n",
    "            P_2_score +=1\n",
    "\n",
    "    print(f\"Player 1 wins {P_1_score} games.\")\n",
    "    print(f\"Player 2 wins {P_2_score} games.\")\n",
    "\n",
    "    return [f\"Player 1 wins {P_1_score} games , Player 2 wins {P_2_score} games\"]\n",
    "    \n"
   ]
  },
  {
   "cell_type": "code",
   "execution_count": 27,
   "metadata": {},
   "outputs": [
    {
     "name": "stdout",
     "output_type": "stream",
     "text": [
      "Player 1 wins\n",
      "Player 2 wins\n",
      "Player 2 wins\n",
      "Player 1 wins\n",
      "Player 2 wins\n",
      "Player 2 wins\n",
      "Player 1 wins\n",
      "Player 2 wins\n",
      "Player 2 wins\n",
      "Player 1 wins\n",
      "Player 1 wins 0 games.\n",
      "Player 2 wins 10 games.\n"
     ]
    },
    {
     "data": {
      "text/plain": [
       "['Player 1 wins 0 games , Player 2 wins 10 games']"
      ]
     },
     "execution_count": 27,
     "metadata": {},
     "output_type": "execute_result"
    }
   ],
   "source": [
    "Tournament(random_player,random_player, [3,3,3], 10, False)"
   ]
  },
  {
   "cell_type": "code",
   "execution_count": 28,
   "metadata": {},
   "outputs": [],
   "source": [
    "#play a random game and record the reward [1 if win, -1 if loss]\n",
    "def random_expirament(position):\n",
    "    if (sum(position) == 0): #just in case we start empty\n",
    "        return 1\n",
    "    else: \n",
    "        return Game(random_player,random_player, position, True)"
   ]
  },
  {
   "cell_type": "code",
   "execution_count": 29,
   "metadata": {},
   "outputs": [],
   "source": [
    "def mc_player(position, decisions, iterations):\n",
    "     #iterations = number of times you want to perform the random expirament\n",
    "    weights = {} \n",
    "    for choice in decisions: # for each choice (move) in the decisions space (position)\n",
    "        outcome = 0 \n",
    "        for x in range(iterations): \n",
    "            outcome += random_expirament(choice) # play the game randomly \n",
    "            weights[choice] = outcome/iterations #assign a weight to the choice \n",
    "    print(weights)\n",
    "    return weights \n"
   ]
  },
  {
   "cell_type": "code",
   "execution_count": null,
   "metadata": {},
   "outputs": [],
   "source": []
  }
 ],
 "metadata": {
  "kernelspec": {
   "display_name": "base",
   "language": "python",
   "name": "python3"
  },
  "language_info": {
   "codemirror_mode": {
    "name": "ipython",
    "version": 3
   },
   "file_extension": ".py",
   "mimetype": "text/x-python",
   "name": "python",
   "nbconvert_exporter": "python",
   "pygments_lexer": "ipython3",
   "version": "3.9.7"
  },
  "orig_nbformat": 4,
  "vscode": {
   "interpreter": {
    "hash": "9e630bc0d39d435b22f9b005722cb4a84b0b57f376e0780b6304b23e04c52990"
   }
  }
 },
 "nbformat": 4,
 "nbformat_minor": 2
}
