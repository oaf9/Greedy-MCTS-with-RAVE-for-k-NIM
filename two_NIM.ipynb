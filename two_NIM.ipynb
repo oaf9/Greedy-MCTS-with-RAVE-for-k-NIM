{
 "cells": [
  {
   "attachments": {},
   "cell_type": "markdown",
   "metadata": {},
   "source": [
    "This is an application that attempts to simulate the game of k-NIM in the case k = 2. \n",
    "feature additions will employ Monte Carlo Methods as we attempt to understand game dynamics further.\n",
    "credit to  John Tan Chong Min for his python tutorials and his work in writing a learning program for classical NIM."
   ]
  },
  {
   "cell_type": "code",
   "execution_count": null,
   "metadata": {},
   "outputs": [
    {
     "ename": "",
     "evalue": "",
     "output_type": "error",
     "traceback": [
      "\u001b[1;31mFailed to start the Kernel. \n",
      "\u001b[1;31mKernel Python 3.10.4 is not usable. Check the Jupyter output tab for more information. \n",
      "\u001b[1;31mView Jupyter <a href='command:jupyter.viewOutput'>log</a> for further details."
     ]
    }
   ],
   "source": []
  },
  {
   "cell_type": "code",
   "execution_count": null,
   "metadata": {},
   "outputs": [
    {
     "ename": "",
     "evalue": "",
     "output_type": "error",
     "traceback": [
      "\u001b[1;31mFailed to start the Kernel. \n",
      "\u001b[1;31mKernel Python 3.10.4 is not usable. Check the Jupyter output tab for more information. \n",
      "\u001b[1;31mView Jupyter <a href='command:jupyter.viewOutput'>log</a> for further details."
     ]
    }
   ],
   "source": [
    "class two_NIM:\n",
    "    def __self( quantites ):\n",
    "\n",
    "        self.quantities = quantities \n",
    "        self.sum = sum(quantities)\n",
    "\n",
    "        def move(self, q1, b1, q2, b2):\n",
    "\n",
    "            #first we want to assert that the move is valid. \n",
    "            # If the program doesn't hald for bad games, our learning program will not function correctly \n",
    "            #assert (q1 + q2 <=2 \n",
    "\n",
    "            assert (q1 <=2)\n",
    "            assert (q2 <=2)\n",
    "            assert (q1 + q2 <=2)\n",
    "            assert(self.quantites[b1] >= q1)\n",
    "            assert(self.quantites[b2] >= q2)\n",
    "            assert b1 < len(self.quantites)\n",
    "            assert b1 < len(self.quantities)\n",
    "\n",
    "            # then we implement the actual move\n",
    "            self.quantites[b1] = self.quantites[b1] - q1\n",
    "            self.quantites[b2] = self.quantites[b2] - q2\n",
    "\n",
    "            #the turn vairaible tracks which players turn it is\n",
    "            #1 for P1, -1 for P2\n",
    "            self.turn = self.turn * -1\n",
    "\n",
    "\n",
    "            #checking if we lost: if so, terminate. \n",
    "            #then we assign a negative reward to the appropriate player. \n",
    "\n",
    "            if self.lose() == True:\n",
    "                self.done = 1\n",
    "                self.reward = self.turn * -1\n",
    "\n",
    "            print(self.quantites)\n",
    "\n",
    "        def move(self, q1, b1):\n",
    "\n",
    "            assert (q1 <=2)\n",
    "            assert(self.quantites[b1] >= q1)\n",
    "            assert b1 < len(self.quantites)\n",
    "\n",
    "            self.quantites[b1] = self.quantites[b1] - q1\n",
    "            print(self.quantites)\n",
    "\n",
    "\n",
    "        def lose(self):\n",
    "            return (self.sum == 0)\n",
    "\n",
    "\n",
    "        def reset(self):\n",
    "\n",
    "            self.sum = sum(self.quantites)\n",
    "            self.quantities = self.turn = 1\n",
    "            self.done = 0\n",
    "            self.reward = 0\n",
    "\n",
    "        def valid_moves(self):\n",
    "            moves = []\n",
    "            for index, x in enumerate(self.quantites):\n",
    "                moves.append([2, index])\n",
    "\n",
    "            for indexx, x in enumerate(self.quantites):\n",
    "                for indexy, y in enumerate(self.quantites):\n",
    "                    if(x>0 and y >0): \n",
    "                        moves.append([ x, indexx, y, indexy])\n",
    "\n",
    "            return moves\n"
   ]
  }
 ],
 "metadata": {
  "kernelspec": {
   "display_name": "Python 3",
   "language": "python",
   "name": "python3"
  },
  "language_info": {
   "name": "python",
   "version": "3.10.4"
  },
  "orig_nbformat": 4,
  "vscode": {
   "interpreter": {
    "hash": "aee8b7b246df8f9039afb4144a1f6fd8d2ca17a180786b69acc140d282b71a49"
   }
  }
 },
 "nbformat": 4,
 "nbformat_minor": 2
}
